{
 "cells": [
  {
   "cell_type": "code",
   "execution_count": 1,
   "metadata": {
    "ExecuteTime": {
     "end_time": "2021-09-09T08:42:58.076273Z",
     "start_time": "2021-09-09T08:42:57.059328Z"
    }
   },
   "outputs": [],
   "source": [
    "import tushare as ts\n",
    "import pymysql\n",
    "import numpy as np\n",
    "import pandas as pd"
   ]
  },
  {
   "cell_type": "code",
   "execution_count": 2,
   "metadata": {
    "ExecuteTime": {
     "end_time": "2021-09-09T08:42:59.006121Z",
     "start_time": "2021-09-09T08:42:58.980191Z"
    }
   },
   "outputs": [],
   "source": [
    "ts.set_token('ce9611f48f0fe5d6fb5abe3303367254f1ff2836a0fbc2fa72e15e82')"
   ]
  },
  {
   "cell_type": "code",
   "execution_count": 3,
   "metadata": {
    "ExecuteTime": {
     "end_time": "2021-09-08T11:17:17.470802Z",
     "start_time": "2021-09-08T11:17:17.457305Z"
    }
   },
   "outputs": [],
   "source": [
    "pro = ts.pro_api('ce9611f48f0fe5d6fb5abe3303367254f1ff2836a0fbc2fa72e15e82')"
   ]
  },
  {
   "cell_type": "markdown",
   "metadata": {},
   "source": [
    "## Utility"
   ]
  },
  {
   "cell_type": "code",
   "execution_count": 4,
   "metadata": {
    "ExecuteTime": {
     "end_time": "2021-09-07T09:39:33.040445Z",
     "start_time": "2021-09-07T09:39:33.028285Z"
    }
   },
   "outputs": [],
   "source": [
    "def get_trade_calendar(start_date, end_date):\n",
    "    trade_cal_df = pro.trade_cal(exchange='',\n",
    "                                 start_date=start_date,\n",
    "                                 end_date=end_date)\n",
    "    trade_cal_df = trade_cal_df[trade_cal_df['is_open'] == 1]\n",
    "    trade_cal = trade_cal_df['cal_date'].tolist()\n",
    "    return trade_cal"
   ]
  },
  {
   "cell_type": "code",
   "execution_count": 5,
   "metadata": {
    "ExecuteTime": {
     "end_time": "2021-09-07T09:39:33.056405Z",
     "start_time": "2021-09-07T09:39:33.043439Z"
    }
   },
   "outputs": [],
   "source": [
    "def get_all_stock_id(date):\n",
    "    daily_df = pro.daily(trade_date=date)\n",
    "    stock_id_list = daily_df['ts_code'].tolist()\n",
    "    return stock_id_list"
   ]
  },
  {
   "cell_type": "markdown",
   "metadata": {},
   "source": [
    "## Daily indicators"
   ]
  },
  {
   "cell_type": "code",
   "execution_count": 6,
   "metadata": {
    "ExecuteTime": {
     "end_time": "2021-09-07T09:39:33.072385Z",
     "start_time": "2021-09-07T09:39:33.061426Z"
    }
   },
   "outputs": [],
   "source": [
    "def get_daily_indicators(date):\n",
    "    daily_df = pro.daily_basic(\n",
    "        ts_code='',\n",
    "        trade_date=date,\n",
    "        fields=\n",
    "        'ts_code,total_mv,circ_mv,turnover_rate,turnover_rate_f,pe_ttm,pb,total_share,float_share,trade_date'\n",
    "    )\n",
    "    return daily_df"
   ]
  },
  {
   "cell_type": "markdown",
   "metadata": {},
   "source": [
    "## DailyMarketPerformance"
   ]
  },
  {
   "cell_type": "markdown",
   "metadata": {},
   "source": [
    "### Get daily stock return"
   ]
  },
  {
   "cell_type": "code",
   "execution_count": 7,
   "metadata": {
    "ExecuteTime": {
     "end_time": "2021-09-09T17:31:48.069458Z",
     "start_time": "2021-09-09T17:31:48.036449Z"
    }
   },
   "outputs": [],
   "source": [
    "def get_daily_stock_return(\n",
    "        date,\n",
    "        adj='hfq'):\n",
    "    return_df = pd.concat([\n",
    "        ts.pro_bar(ts_code=stock_id,\n",
    "                   adj=adj,\n",
    "                   start_date=start_date,\n",
    "                   end_date=end_date) for stock_id in original_stock_id_list\n",
    "    ],\n",
    "                          ignore_index=True)\n",
    "    # 包含后复权数据的通用行情接口pro_abr无法多值传入，只能逐个提取后拼接\n",
    "    return return_df"
   ]
  },
  {
   "cell_type": "markdown",
   "metadata": {},
   "source": [
    "### All stocks' return in a given period"
   ]
  },
  {
   "cell_type": "code",
   "execution_count": 8,
   "metadata": {
    "ExecuteTime": {
     "end_time": "2021-09-08T11:15:29.883821Z",
     "start_time": "2021-09-08T11:15:29.864873Z"
    }
   },
   "outputs": [],
   "source": [
    "def get_interval_stock_return(start_date, end_date, adj='hfq', token = 'ce9611f48f0fe5d6fb5abe3303367254f1ff2836a0fbc2fa72e15e82'):\n",
    "    # Get trade calendar\n",
    "    pro = ts.pro_api(token)\n",
    "    trade_cal = get_trade_calendar(start_date, end_date)\n",
    "    original_stock_id_list = get_all_stock_id(\n",
    "        trade_cal[0]\n",
    "    )  # The original version of stock_id_list, could be roughly considered as the minimum of stock_id_list assuming that no stocks are delisting\n",
    "    return_df = pd.concat([\n",
    "        ts.pro_bar(ts_code=stock_id,\n",
    "                   adj=adj,\n",
    "                   start_date=start_date,\n",
    "                   end_date=end_date) for stock_id in original_stock_id_list\n",
    "    ],\n",
    "                          ignore_index=True)\n",
    "    print(f'{trade_cal[0]}: Primary collection finished!')\n",
    "\n",
    "    for trade_date in trade_cal[1:]:\n",
    "        curr_stock_id_list = get_all_stock_id(trade_date)\n",
    "        diff_stock_id_list = list(\n",
    "            set(curr_stock_id_list) - set(original_stock_id_list))\n",
    "        original_stock_id_list = list(\n",
    "            set(curr_stock_id_list) | set(original_stock_id_list)\n",
    "        )  # Add new stock_id into the original list to avoid repetition\n",
    "        if (len(diff_stock_id_list)):  # Otherwise pass the adding procedure\n",
    "            print(f'{trade_date}: New stocks are ', end='')\n",
    "            print(diff_stock_id_list)\n",
    "            new_return_df = pd.concat([\n",
    "                ts.pro_bar(ts_code=stock_id,\n",
    "                           adj=adj,\n",
    "                           start_date=start_date,\n",
    "                           end_date=end_date)\n",
    "                for stock_id in diff_stock_id_list\n",
    "            ],\n",
    "                                      ignore_index=True)\n",
    "            return_df = return_df.append(new_return_df, ignore_index=True)\n",
    "        print(f'{trade_date}: Done!')\n",
    "\n",
    "    return_df = return_df[[\n",
    "        'ts_code', 'trade_date', 'close', 'pre_close', 'pct_chg', 'vol',\n",
    "        'amount'\n",
    "    ]]\n",
    "    return return_df"
   ]
  },
  {
   "cell_type": "markdown",
   "metadata": {},
   "source": [
    "### Market portfolio return (000985.CSI)"
   ]
  },
  {
   "cell_type": "code",
   "execution_count": 9,
   "metadata": {
    "ExecuteTime": {
     "end_time": "2021-09-07T09:39:33.104296Z",
     "start_time": "2021-09-07T09:39:33.094321Z"
    }
   },
   "outputs": [],
   "source": [
    "def get_interval_market_portfolio_return(start_date,\n",
    "                                         end_date,\n",
    "                                         ts_code='000985.CSI'):\n",
    "    index_df = pro.index_daily(ts_code=ts_code,\n",
    "                               start_date=start_date,\n",
    "                               end_date=end_date)\n",
    "    index_df = index_df[[\n",
    "        'ts_code', 'trade_date', 'close', 'pre_close', 'pct_chg', 'vol',\n",
    "        'amount'\n",
    "    ]]\n",
    "    return index_df"
   ]
  },
  {
   "cell_type": "markdown",
   "metadata": {},
   "source": [
    "## Shibor on as risk-free rate"
   ]
  },
  {
   "cell_type": "code",
   "execution_count": 10,
   "metadata": {
    "ExecuteTime": {
     "end_time": "2021-09-07T09:39:33.120294Z",
     "start_time": "2021-09-07T09:39:33.108287Z"
    }
   },
   "outputs": [],
   "source": [
    "def get_interval_shibor(start_date, end_date):\n",
    "    shibor_df = pro.shibor(start_date=start_date, end_date=end_date)\n",
    "    return shibor_df"
   ]
  },
  {
   "cell_type": "markdown",
   "metadata": {
    "ExecuteTime": {
     "end_time": "2021-09-06T10:22:58.734279Z",
     "start_time": "2021-09-06T10:22:58.719287Z"
    }
   },
   "source": [
    "## Finance indicators"
   ]
  },
  {
   "cell_type": "code",
   "execution_count": 11,
   "metadata": {
    "ExecuteTime": {
     "end_time": "2021-09-07T09:39:33.136209Z",
     "start_time": "2021-09-07T09:39:33.127237Z"
    }
   },
   "outputs": [],
   "source": [
    "def get_finance_indicators(period):\n",
    "    fin_df = pro.income_vip(\n",
    "        period=period,\n",
    "        fields=\n",
    "        'ts_code,ann_date,f_ann_date,report_type,end_date,n_income_attr_p,revenue'\n",
    "    )\n",
    "    fin_df = fin_df.drop_duplicates()\n",
    "    fin_df = fin_df.sort_values(by=['f_ann_date'], ascending=True)\n",
    "    fin_df = fin_df.drop_duplicates(subset=['ts_code', 'end_date'],\n",
    "                                    keep='first')\n",
    "    return fin_df"
   ]
  },
  {
   "cell_type": "markdown",
   "metadata": {},
   "source": [
    "## Cashflow indicators"
   ]
  },
  {
   "cell_type": "code",
   "execution_count": 12,
   "metadata": {
    "ExecuteTime": {
     "end_time": "2021-09-07T09:39:33.152166Z",
     "start_time": "2021-09-07T09:39:33.138205Z"
    }
   },
   "outputs": [],
   "source": [
    "def get_cashflow_indicators(period):\n",
    "    cashflow_df = pro.cashflow_vip(\n",
    "        period=period,\n",
    "        fields=\n",
    "        'ts_code,ann_date,f_ann_date,report_type,end_date,n_cashflow_act,im_net_cashflow_oper_act'\n",
    "    )\n",
    "    cashflow_df = cashflow_df.drop_duplicates()\n",
    "    cashflow_df = cashflow_df.sort_values(by=['f_ann_date'], ascending=True)\n",
    "    cashflow_df = cashflow_df.drop_duplicates(subset=['ts_code', 'end_date'],\n",
    "                                              keep='first')\n",
    "    return cashflow_df"
   ]
  },
  {
   "cell_type": "markdown",
   "metadata": {
    "ExecuteTime": {
     "end_time": "2021-09-06T15:14:50.419871Z",
     "start_time": "2021-09-06T15:14:50.409780Z"
    }
   },
   "source": [
    "### Balance indicators"
   ]
  },
  {
   "cell_type": "code",
   "execution_count": 13,
   "metadata": {
    "ExecuteTime": {
     "end_time": "2021-09-07T09:39:33.168232Z",
     "start_time": "2021-09-07T09:39:33.154160Z"
    }
   },
   "outputs": [],
   "source": [
    "def get_balance_indicators(period):\n",
    "    balance_df = pro.balancesheet_vip(\n",
    "        period=period,\n",
    "        fields=\n",
    "        'ts_code,ann_date,f_ann_date,report_type,end_date,total_share,total_assets,oth_eqt_tools_p_shr,total_cur_liab,total_liab'\n",
    "    )\n",
    "    balance_df = balance_df.drop_duplicates()\n",
    "    balance_df = balance_df.sort_values(by=['f_ann_date'], ascending=True)\n",
    "    balance_df = balance_df.drop_duplicates(subset=['ts_code', 'end_date'],\n",
    "                                            keep='first')\n",
    "    return balance_df"
   ]
  }
 ],
 "metadata": {
  "kernelspec": {
   "display_name": "lab",
   "language": "python",
   "name": "lab"
  },
  "language_info": {
   "codemirror_mode": {
    "name": "ipython",
    "version": 3
   },
   "file_extension": ".py",
   "mimetype": "text/x-python",
   "name": "python",
   "nbconvert_exporter": "python",
   "pygments_lexer": "ipython3",
   "version": "3.8.11"
  },
  "varInspector": {
   "cols": {
    "lenName": 16,
    "lenType": 16,
    "lenVar": 40
   },
   "kernels_config": {
    "python": {
     "delete_cmd_postfix": "",
     "delete_cmd_prefix": "del ",
     "library": "var_list.py",
     "varRefreshCmd": "print(var_dic_list())"
    },
    "r": {
     "delete_cmd_postfix": ") ",
     "delete_cmd_prefix": "rm(",
     "library": "var_list.r",
     "varRefreshCmd": "cat(var_dic_list()) "
    }
   },
   "types_to_exclude": [
    "module",
    "function",
    "builtin_function_or_method",
    "instance",
    "_Feature"
   ],
   "window_display": false
  }
 },
 "nbformat": 4,
 "nbformat_minor": 4
}
